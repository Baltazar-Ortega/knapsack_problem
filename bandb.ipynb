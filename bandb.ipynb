{
 "cells": [
  {
   "cell_type": "code",
   "execution_count": 57,
   "metadata": {},
   "outputs": [
    {
     "name": "stdout",
     "output_type": "stream",
     "text": [
      "Hello World\n"
     ]
    }
   ],
   "source": [
    "print(\"Hello World\")"
   ]
  },
  {
   "cell_type": "code",
   "execution_count": 84,
   "metadata": {},
   "outputs": [],
   "source": [
    "from pulp import *\n",
    "from treelib import Node, Tree\n",
    "import math\n",
    "import random\n",
    "\n",
    "tipo = 'LpMaximize'"
   ]
  },
  {
   "cell_type": "markdown",
   "metadata": {},
   "source": [
    "Para este ejemplo se usa el ejercicio 2 de branch and bound en el cuaderno. 21 de Mayo"
   ]
  },
  {
   "cell_type": "code",
   "execution_count": 85,
   "metadata": {},
   "outputs": [],
   "source": [
    "problema = LpProblem(\"Branch_and_Bound\", LpMaximize)\n",
    "lista_variables = []"
   ]
  },
  {
   "cell_type": "code",
   "execution_count": 86,
   "metadata": {},
   "outputs": [],
   "source": [
    "coeficientes = {'x1': 2, 'x2': 3}\n",
    "costosRes1 = {'x1': -3, 'x2': 1}\n",
    "costosRes2 = {'x1': 4, 'x2': 2}\n",
    "costosRes3 = {'x1': 4, 'x2': -1}\n",
    "costosRes4 = {'x1': -1, 'x2': 2}\n",
    "\n",
    "xs = ['x1', 'x2']\n",
    "x_vars = pulp.LpVariable.dicts(\"Xs\", xs, 0)\n",
    "\n",
    "problema += pulp.lpSum([coeficientes[i] * x_vars[i] for i in xs]), 'obj' # funcion objetivo"
   ]
  },
  {
   "cell_type": "code",
   "execution_count": 87,
   "metadata": {},
   "outputs": [
    {
     "data": {
      "text/plain": [
       "Xs_x1"
      ]
     },
     "execution_count": 87,
     "metadata": {},
     "output_type": "execute_result"
    }
   ],
   "source": [
    "x_vars['x1']"
   ]
  },
  {
   "cell_type": "code",
   "execution_count": 88,
   "metadata": {},
   "outputs": [
    {
     "data": {
      "text/plain": [
       "[Xs_x1, Xs_x2]"
      ]
     },
     "execution_count": 88,
     "metadata": {},
     "output_type": "execute_result"
    }
   ],
   "source": [
    "list(x_vars.values())"
   ]
  },
  {
   "cell_type": "code",
   "execution_count": 89,
   "metadata": {},
   "outputs": [],
   "source": [
    "problema += pulp.lpSum([costosRes1[i] * x_vars[i] for i in xs]) <= 1\n",
    "problema += pulp.lpSum([costosRes2[i] * x_vars[i] for i in xs]) <= 15\n",
    "problema += pulp.lpSum([costosRes3[i] * x_vars[i] for i in xs]) <= 10\n",
    "problema += pulp.lpSum([costosRes4[i] * x_vars[i] for i in xs]) <= 5"
   ]
  },
  {
   "cell_type": "code",
   "execution_count": 90,
   "metadata": {},
   "outputs": [
    {
     "data": {
      "text/plain": [
       "1"
      ]
     },
     "execution_count": 90,
     "metadata": {},
     "output_type": "execute_result"
    }
   ],
   "source": [
    "problema.solve()"
   ]
  },
  {
   "cell_type": "code",
   "execution_count": 91,
   "metadata": {},
   "outputs": [
    {
     "name": "stdout",
     "output_type": "stream",
     "text": [
      "Xs_x1 = 2.0\n",
      "Xs_x2 = 3.5\n"
     ]
    }
   ],
   "source": [
    "for variable in problema.variables():\n",
    "        print(variable.name, \"=\", variable.varValue)"
   ]
  },
  {
   "cell_type": "code",
   "execution_count": 92,
   "metadata": {},
   "outputs": [
    {
     "name": "stdout",
     "output_type": "stream",
     "text": [
      "14.5\n"
     ]
    }
   ],
   "source": [
    "print(pulp.value(problema.objective)) "
   ]
  },
  {
   "cell_type": "code",
   "execution_count": 93,
   "metadata": {},
   "outputs": [
    {
     "name": "stdout",
     "output_type": "stream",
     "text": [
      "Estatus:  Optimal\n"
     ]
    }
   ],
   "source": [
    "print(\"Estatus: \", LpStatus[problema.status])"
   ]
  },
  {
   "cell_type": "code",
   "execution_count": 94,
   "metadata": {},
   "outputs": [],
   "source": [
    "if LpStatus[problema.status] != 'Optimal':\n",
    "    print(\"No se podrá resolver\")"
   ]
  },
  {
   "cell_type": "markdown",
   "metadata": {},
   "source": [
    "## Arbol"
   ]
  },
  {
   "cell_type": "code",
   "execution_count": 95,
   "metadata": {},
   "outputs": [],
   "source": [
    "arbol = Tree()\n",
    "resultado = {}\n",
    "\n",
    "resultado['obj'] = value(problema.objective) # Valor de z*"
   ]
  },
  {
   "cell_type": "code",
   "execution_count": 96,
   "metadata": {},
   "outputs": [],
   "source": [
    "pila_nodos = [] # nombres de los nodos (array de strings)\n",
    "mejor_nodo = {} # Mejor nodo cada tiempo\n",
    "mejor_nodo['nodo'] = 'none'\n",
    "mejor_nodo['z']=-float('inf') # -infinito\n",
    "\n",
    "variables_no_enteras = [] # variables no enteras del problema actual (array de strings)\n",
    "solucion = True\n"
   ]
  },
  {
   "cell_type": "code",
   "execution_count": 97,
   "metadata": {},
   "outputs": [
    {
     "name": "stdout",
     "output_type": "stream",
     "text": [
      "Xs_x2  no es entera\n",
      "Diccionario resultado:  {'obj': 14.5, 'vars': {'Xs_x1': 'Xs_x1=2.0', 'Xs_x2': 'Xs_x2=3.5'}, 'Xs_x1': 2.0, 'Xs_x2': 3.5}\n",
      "Lista de variables no enteras:  ['Xs_x2']\n"
     ]
    }
   ],
   "source": [
    "resultado['vars'] = {}\n",
    "\n",
    "for v in problema.variables():\n",
    "    resultado['vars'][v.name] = '{var}={value}'.format(var=v.name, value=v.varValue)\n",
    "    resultado[v.name] = v.varValue\n",
    "    \n",
    "    # is_integer() devuelve True si en el flotante sus decimales son 0\n",
    "    if not resultado[v.name].is_integer():\n",
    "        print(v.name, \" no es entera\")\n",
    "        solucion = False\n",
    "        variables_no_enteras.append(v.name)\n",
    "        \n",
    "print(\"Diccionario resultado: \", resultado)\n",
    "print(\"Lista de variables no enteras: \", variables_no_enteras)"
   ]
  },
  {
   "cell_type": "code",
   "execution_count": 98,
   "metadata": {},
   "outputs": [
    {
     "name": "stdout",
     "output_type": "stream",
     "text": [
      "Se realizará arbol de decision\n"
     ]
    }
   ],
   "source": [
    "if solucion == True:\n",
    "    print('Automaticamente entero')\n",
    "    mejor_nodo['nodo'] = 'original'\n",
    "    mejor_nodo['z'] = value(problema.objective)\n",
    "    mejor_nodo['resultado'] = resultado\n",
    "else: # Agregamos el root a la lista de nodos\n",
    "    print(\"Se realizará arbol de decision\")\n",
    "    pila_nodos.append('original')"
   ]
  },
  {
   "cell_type": "code",
   "execution_count": 99,
   "metadata": {},
   "outputs": [
    {
     "data": {
      "text/plain": [
       "['original']"
      ]
     },
     "execution_count": 99,
     "metadata": {},
     "output_type": "execute_result"
    }
   ],
   "source": [
    "pila_nodos"
   ]
  },
  {
   "cell_type": "code",
   "execution_count": 100,
   "metadata": {},
   "outputs": [],
   "source": [
    "# El primero es un nombre para cuando se imprima, el segundo es un identificador,\n",
    "# el tercer parametro son los datos que gaurdará\n",
    "arbol.create_node('Original', 'original',\n",
    "                 data={\n",
    "                     'status': LpStatus[problema.status],\n",
    "                     'problema': problema,\n",
    "                     'no_enteros': variables_no_enteras,\n",
    "                     'resultado': resultado\n",
    "                 })\n",
    "p = 0"
   ]
  },
  {
   "cell_type": "code",
   "execution_count": 101,
   "metadata": {},
   "outputs": [
    {
     "name": "stdout",
     "output_type": "stream",
     "text": [
      "Variable por la que se va a ramificar:  Xs_x2\n",
      "Piso:  3\n",
      "Techo:  4\n"
     ]
    }
   ],
   "source": [
    "solution = True\n",
    "\n",
    "# Para cada nodo creamos otros 2 nodos, con sus nuevas restricciones\n",
    "\n",
    "# FIFO. Para hacer el branching seleccionamos el ultimo nodo insertado en la pila\n",
    "nodo_ramificar = pila_nodos[0] # es un string\n",
    "\n",
    "# Lo removemos para que sea examinado\n",
    "pila_nodos.remove(nodo_ramificar) # pila nodos se quedó vacio\n",
    "\n",
    "variables_no_enteras = arbol.get_node('{nodo}'.format(nodo=nodo_ramificar)).data['no_enteros']\n",
    "\n",
    "variable_ramificar = random.choice(variables_no_enteras)\n",
    "print(\"Variable por la que se va a ramificar: \", variable_ramificar)\n",
    "\n",
    "# Aqui 3.5 pasa a 3\n",
    "piso = int(arbol.get_node('{nodo}'.format(nodo=nodo_ramificar)).data['resultado'][variable_ramificar])\n",
    "\n",
    "techo = math.ceil(arbol.get_node('{nodo}'.format(nodo=nodo_ramificar)).data['resultado'][variable_ramificar])\n",
    "\n",
    "print(\"Piso: \", piso)\n",
    "print(\"Techo: \", techo)"
   ]
  },
  {
   "cell_type": "code",
   "execution_count": 102,
   "metadata": {},
   "outputs": [],
   "source": [
    "# Copiar el original, porque le vamos a añadir una restriccion\n",
    "nodo = arbol.get_node('{nodo}'.format(nodo=nodo_ramificar)).data['problema'].copy()"
   ]
  },
  {
   "cell_type": "code",
   "execution_count": 103,
   "metadata": {},
   "outputs": [
    {
     "name": "stdout",
     "output_type": "stream",
     "text": [
      "Branch_and_Bound:\n",
      "MAXIMIZE\n",
      "2*Xs_x1 + 3*Xs_x2 + 0\n",
      "SUBJECT TO\n",
      "_C1: - 3 Xs_x1 + Xs_x2 <= 1\n",
      "\n",
      "_C2: 4 Xs_x1 + 2 Xs_x2 <= 15\n",
      "\n",
      "_C3: 4 Xs_x1 - Xs_x2 <= 10\n",
      "\n",
      "_C4: - Xs_x1 + 2 Xs_x2 <= 5\n",
      "\n",
      "_C5: Xs_x2 <= 3\n",
      "\n",
      "VARIABLES\n",
      "Xs_x1 Continuous\n",
      "Xs_x2 Continuous\n",
      "\n",
      "Xs_x1 = 2.25\n",
      "Xs_x2 = 3.0\n",
      "13.5\n"
     ]
    }
   ],
   "source": [
    "x_elegida = xs[int(variable_ramificar.split('_')[1][1]) - 1] \n",
    "\n",
    "# Añadir nueva restriccion\n",
    "nodo += x_vars[x_elegida] <= piso\n",
    "\n",
    "nueva_restriccion = '{x}<={piso}'.format(x=x_vars[x_elegida], piso=piso)\n",
    "print(nodo) # subproblema 1\n",
    "\n",
    "nodo.solve()\n",
    "\n",
    "for variable in nodo.variables():\n",
    "        print(variable.name, \"=\", variable.varValue)\n",
    "print(value(nodo.objective)) # z* del subproblema 1"
   ]
  },
  {
   "cell_type": "code",
   "execution_count": 104,
   "metadata": {},
   "outputs": [],
   "source": [
    "# Volver a inicializar resultado\n",
    "resultado = {}\n",
    "resultado['vars'] = {}\n",
    "variables_no_enteras = []"
   ]
  },
  {
   "cell_type": "code",
   "execution_count": 113,
   "metadata": {},
   "outputs": [],
   "source": [
    "# Lado izquierdo\n",
    "if LpStatus[nodo.status] == 'Optimal': # Si\n",
    "    resultado['obj'] = value(nodo.objective) # 13.5\n",
    "    \n",
    "    for v in nodo.variables():\n",
    "        resultado['vars'][v.name] = '{var}={value}'.format(var=v.name, value=v.varValue)\n",
    "        resultado[v.name] = v.varValue\n",
    "        if not resultado[v.name].is_integer(): # Por ej aqui, x1* = 2.25\n",
    "            solution = False\n",
    "            variables_no_enteras.append(v.name)\n",
    "    \n",
    "    if solution == False: # hay una variable NO entera. Habrá que ramificar\n",
    "            print(\"Variables no enteras: \", variables_no_enteras)\n",
    "            \n",
    "            if mejor_nodo['nodo'] == 'none': # nuestro caso. Aun no tenemos una solucion\n",
    "                print(\"Aun no tenemos una solucion\")\n",
    "                pila_nodos.append('node{no}'.format(no = p))\n",
    "                print(\"Pila nodos: \", pila_nodos)\n",
    "            else: \n",
    "                if tipo == 'LpMaximize':\n",
    "                    if resultado['obj'] > mejor_nodo['z']:\n",
    "                        pila_nodos.append('node{no}'.format(no=p))\n",
    "                else:\n",
    "                    if resultado['obj'] < mejor_nodo['z']:\n",
    "                        pila_nodos.append('node{no}'.format(no=p))\n",
    "    else: # todas las variables son enteras (una hoja)\n",
    "        if tipo == 'LpMaximize':\n",
    "            if resultado['obj'] > mejor_nodo['z']:\n",
    "                mejor_nodo['node'] = 'node{no}'.format(no=p)\n",
    "                mejor_nodo['z'] = resultado['obj']\n",
    "                mejor_nodo['resultado'] = resultado\n",
    "        else:\n",
    "            if resultado['obj'] < mejor_nodo['z']:\n",
    "                mejor_nodo['node'] = 'node{no}'.format(no=p)\n",
    "                mejor_nodo['z'] = resultado['obj']\n",
    "                mejor_nodo['resultado'] = resultado\n",
    "    \n",
    "    arbol.create_node('node{no}'.format(no=p), 'node{no}'.format(no=p), \n",
    "                      parent='{node}'.format(node=nodo_ramificar),\n",
    "                     data={\n",
    "                         'status': LpStatus[nodo.status],\n",
    "                         'problema': nodo,\n",
    "                         'no_enteros': variables_no_enteras,\n",
    "                         'resultado': resultado,\n",
    "                         'nueva_restriccion': nueva_restriccion\n",
    "                     })\n",
    "    \n",
    "else: # El status NO es optimal\n",
    "    arbol.create_node('node{no}'.format(no=p), 'node{no}'.format(no=p), \n",
    "                      parent='{node}'.format(node=nodo_ramificar),\n",
    "                     data={\n",
    "                         'status': LpStatus[nodo.status],\n",
    "                         'problema': nodo,\n",
    "                         'no_enteros': variables_no_enteras,\n",
    "                         'resultado': {'obj':LpStatus[nodo.status]},\n",
    "                         'nueva_restriccion': nueva_restriccion\n",
    "                     })\n",
    "p += 1"
   ]
  },
  {
   "cell_type": "code",
   "execution_count": 114,
   "metadata": {},
   "outputs": [
    {
     "data": {
      "text/plain": [
       "{'nodo': 'none', 'z': -inf}"
      ]
     },
     "execution_count": 114,
     "metadata": {},
     "output_type": "execute_result"
    }
   ],
   "source": [
    "mejor_nodo"
   ]
  },
  {
   "cell_type": "code",
   "execution_count": 106,
   "metadata": {},
   "outputs": [
    {
     "name": "stdout",
     "output_type": "stream",
     "text": [
      "Original\n",
      "└── node0\n",
      "\n"
     ]
    }
   ],
   "source": [
    "arbol.show()"
   ]
  },
  {
   "cell_type": "code",
   "execution_count": 115,
   "metadata": {},
   "outputs": [
    {
     "data": {
      "text/plain": [
       "-1"
      ]
     },
     "execution_count": 115,
     "metadata": {},
     "output_type": "execute_result"
    }
   ],
   "source": [
    "# Lado derecho\n",
    "\n",
    "# Copiar el original, porque le vamos a añadir una restriccion\n",
    "nodo = arbol.get_node('{nodo}'.format(nodo=nodo_ramificar)).data['problema'].copy()\n",
    "\n",
    "nodo += x_vars[x_elegida] >= techo\n",
    "\n",
    "nueva_restriccion = '{x}>={bs}'.format(x = x_vars[x_elegida], bs = techo)\n",
    "\n",
    "nodo.solve() # Infeasible"
   ]
  },
  {
   "cell_type": "code",
   "execution_count": 116,
   "metadata": {},
   "outputs": [],
   "source": [
    "# Volver a inicializar resultado\n",
    "resultado = {}\n",
    "resultado['vars'] = {}\n",
    "variables_no_enteras = []\n",
    "\n",
    "solution = True"
   ]
  },
  {
   "cell_type": "code",
   "execution_count": 117,
   "metadata": {},
   "outputs": [],
   "source": [
    "if LpStatus[nodo.status] == 'Optimal': # No\n",
    "    resultado['obj'] = value(nodo.objective) \n",
    "    \n",
    "    for v in nodo.variables():\n",
    "        resultado['vars'][v.name] = '{var}={value}'.format(var=v.name, value=v.varValue)\n",
    "        resultado[v.name] = v.varValue\n",
    "        if not resultado[v.name].is_integer(): \n",
    "            solution = False\n",
    "            variables_no_enteras.append(v.name)\n",
    "    \n",
    "    if solution == False: \n",
    "            print(\"Variables no enteras: \", variables_no_enteras)\n",
    "            \n",
    "            if mejor_nodo['nodo'] == 'none': \n",
    "                print(\"Aun no tenemos una solucion\")\n",
    "                pila_nodos.append('node{no}'.format(no = p))\n",
    "                print(\"Pila nodos: \", pila_nodos)\n",
    "            else: \n",
    "                if tipo == 'LpMaximize':\n",
    "                    if resultado['obj'] > mejor_nodo['z']:\n",
    "                        pila_nodos.append('node{no}'.format(no=p))\n",
    "                else:\n",
    "                    if resultado['obj'] < mejor_nodo['z']:\n",
    "                        pila_nodos.append('node{no}'.format(no=p))\n",
    "    else: # todas las variables son enteras (una hoja)\n",
    "        if tipo == 'LpMaximize':\n",
    "            if resultado['obj'] > mejor_nodo['z']:\n",
    "                mejor_nodo['node'] = 'node{no}'.format(no=p)\n",
    "                mejor_nodo['z'] = resultado['obj']\n",
    "                mejor_nodo['resultado'] = resultado\n",
    "        else:\n",
    "            if resultado['obj'] < mejor_nodo['z']:\n",
    "                mejor_nodo['node'] = 'node{no}'.format(no=p)\n",
    "                mejor_nodo['z'] = resultado['obj']\n",
    "                mejor_nodo['resultado'] = resultado\n",
    "    \n",
    "    arbol.create_node('node{no}'.format(no=p), 'node{no}'.format(no=p), \n",
    "                      parent='{node}'.format(node=nodo_ramificar),\n",
    "                     data={\n",
    "                         'status': LpStatus[nodo.status],\n",
    "                         'problema': nodo,\n",
    "                         'no_enteros': variables_no_enteras,\n",
    "                         'resultado': resultado,\n",
    "                         'nueva_restriccion': nueva_restriccion\n",
    "                     })\n",
    "    \n",
    "else: # El status NO es optimal\n",
    "    arbol.create_node('node{no}'.format(no=p), 'node{no}'.format(no=p), \n",
    "                      parent='{node}'.format(node=nodo_ramificar),\n",
    "                     data={\n",
    "                         'status': LpStatus[nodo.status],\n",
    "                         'problema': nodo,\n",
    "                         'no_enteros': variables_no_enteras,\n",
    "                         'resultado': {'obj':LpStatus[nodo.status]},\n",
    "                         'nueva_restriccion': nueva_restriccion\n",
    "                     })\n",
    "p += 1"
   ]
  },
  {
   "cell_type": "code",
   "execution_count": 118,
   "metadata": {},
   "outputs": [
    {
     "name": "stdout",
     "output_type": "stream",
     "text": [
      "Original\n",
      "├── node0\n",
      "├── node1\n",
      "├── node2\n",
      "└── node3\n",
      "\n"
     ]
    }
   ],
   "source": [
    "arbol.show()"
   ]
  },
  {
   "cell_type": "code",
   "execution_count": 119,
   "metadata": {},
   "outputs": [
    {
     "name": "stdout",
     "output_type": "stream",
     "text": [
      "Node(tag=Original, identifier=original, data={'status': 'Optimal', 'problema': Branch_and_Bound:\n",
      "MAXIMIZE\n",
      "2*Xs_x1 + 3*Xs_x2 + 0\n",
      "SUBJECT TO\n",
      "_C1: - 3 Xs_x1 + Xs_x2 <= 1\n",
      "\n",
      "_C2: 4 Xs_x1 + 2 Xs_x2 <= 15\n",
      "\n",
      "_C3: 4 Xs_x1 - Xs_x2 <= 10\n",
      "\n",
      "_C4: - Xs_x1 + 2 Xs_x2 <= 5\n",
      "\n",
      "VARIABLES\n",
      "Xs_x1 Continuous\n",
      "Xs_x2 Continuous\n",
      ", 'no_enteros': ['Xs_x2'], 'resultado': {'obj': 14.5, 'vars': {'Xs_x1': 'Xs_x1=2.0', 'Xs_x2': 'Xs_x2=3.5'}, 'Xs_x1': 2.0, 'Xs_x2': 3.5}})\n",
      "Node(tag=node0, identifier=node0, data={'status': 'Optimal', 'problema': Branch_and_Bound:\n",
      "MAXIMIZE\n",
      "2*Xs_x1 + 3*Xs_x2 + 0\n",
      "SUBJECT TO\n",
      "_C1: - 3 Xs_x1 + Xs_x2 <= 1\n",
      "\n",
      "_C2: 4 Xs_x1 + 2 Xs_x2 <= 15\n",
      "\n",
      "_C3: 4 Xs_x1 - Xs_x2 <= 10\n",
      "\n",
      "_C4: - Xs_x1 + 2 Xs_x2 <= 5\n",
      "\n",
      "_C5: Xs_x2 <= 3\n",
      "\n",
      "VARIABLES\n",
      "Xs_x1 Continuous\n",
      "Xs_x2 Continuous\n",
      ", 'no_enteros': ['Xs_x1'], 'resultado': {'vars': {'Xs_x1': 'Xs_x1=2.25', 'Xs_x2': 'Xs_x2=3.0'}, 'obj': 13.5, 'Xs_x1': 2.25, 'Xs_x2': 3.0}, 'nueva_restriccion': 'Xs_x2<=3'})\n",
      "Node(tag=node1, identifier=node1, data={'status': 'Infeasible', 'problema': Branch_and_Bound:\n",
      "MAXIMIZE\n",
      "2*Xs_x1 + 3*Xs_x2 + 0\n",
      "SUBJECT TO\n",
      "_C1: - 3 Xs_x1 + Xs_x2 <= 1\n",
      "\n",
      "_C2: 4 Xs_x1 + 2 Xs_x2 <= 15\n",
      "\n",
      "_C3: 4 Xs_x1 - Xs_x2 <= 10\n",
      "\n",
      "_C4: - Xs_x1 + 2 Xs_x2 <= 5\n",
      "\n",
      "_C5: Xs_x2 >= 4\n",
      "\n",
      "VARIABLES\n",
      "Xs_x1 Continuous\n",
      "Xs_x2 Continuous\n",
      ", 'no_enteros': [], 'resultado': {'obj': 'Infeasible'}, 'nueva_restriccion': 'Xs_x2>=4'})\n",
      "Node(tag=node2, identifier=node2, data={'status': 'Infeasible', 'problema': Branch_and_Bound:\n",
      "MAXIMIZE\n",
      "2*Xs_x1 + 3*Xs_x2 + 0\n",
      "SUBJECT TO\n",
      "_C1: - 3 Xs_x1 + Xs_x2 <= 1\n",
      "\n",
      "_C2: 4 Xs_x1 + 2 Xs_x2 <= 15\n",
      "\n",
      "_C3: 4 Xs_x1 - Xs_x2 <= 10\n",
      "\n",
      "_C4: - Xs_x1 + 2 Xs_x2 <= 5\n",
      "\n",
      "_C5: Xs_x2 >= 4\n",
      "\n",
      "VARIABLES\n",
      "Xs_x1 Continuous\n",
      "Xs_x2 Continuous\n",
      ", 'no_enteros': [], 'resultado': {'obj': 'Infeasible'}, 'nueva_restriccion': 'Xs_x2>=4'})\n",
      "Node(tag=node3, identifier=node3, data={'status': 'Infeasible', 'problema': Branch_and_Bound:\n",
      "MAXIMIZE\n",
      "2*Xs_x1 + 3*Xs_x2 + 0\n",
      "SUBJECT TO\n",
      "_C1: - 3 Xs_x1 + Xs_x2 <= 1\n",
      "\n",
      "_C2: 4 Xs_x1 + 2 Xs_x2 <= 15\n",
      "\n",
      "_C3: 4 Xs_x1 - Xs_x2 <= 10\n",
      "\n",
      "_C4: - Xs_x1 + 2 Xs_x2 <= 5\n",
      "\n",
      "_C5: Xs_x2 >= 4\n",
      "\n",
      "VARIABLES\n",
      "Xs_x1 Continuous\n",
      "Xs_x2 Continuous\n",
      ", 'no_enteros': [], 'resultado': {'obj': 'Infeasible'}, 'nueva_restriccion': 'Xs_x2>=4'})\n"
     ]
    }
   ],
   "source": [
    "for nodo in arbol.all_nodes():\n",
    "    print(nodo)"
   ]
  },
  {
   "cell_type": "code",
   "execution_count": null,
   "metadata": {},
   "outputs": [],
   "source": []
  }
 ],
 "metadata": {
  "kernelspec": {
   "display_name": "Python 3",
   "language": "python",
   "name": "python3"
  },
  "language_info": {
   "codemirror_mode": {
    "name": "ipython",
    "version": 3
   },
   "file_extension": ".py",
   "mimetype": "text/x-python",
   "name": "python",
   "nbconvert_exporter": "python",
   "pygments_lexer": "ipython3",
   "version": "3.7.3"
  }
 },
 "nbformat": 4,
 "nbformat_minor": 4
}
